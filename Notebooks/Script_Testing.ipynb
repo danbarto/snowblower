{
 "cells": [
  {
   "cell_type": "code",
   "execution_count": null,
   "id": "418d9395",
   "metadata": {},
   "outputs": [],
   "source": [
    "import uproot\n",
    "import awkward as ak\n",
    "import numpy as np\n",
    "from coffea.nanoevents import NanoEventsFactory, NanoAODSchema, BaseSchema, DelphesSchema\n",
    "from coffea.analysis_tools import Weights, PackedSelection\n",
    "from coffea import hist, processor\n",
    "from yahist import Hist1D, Hist2D"
   ]
  },
  {
   "cell_type": "code",
   "execution_count": null,
   "id": "f1e04b97",
   "metadata": {},
   "outputs": [],
   "source": [
    "from tools.helpers import *\n",
    "from tools.basic_objects import getJets, getFatjets"
   ]
  },
  {
   "cell_type": "code",
   "execution_count": null,
   "id": "c87feed4",
   "metadata": {},
   "outputs": [],
   "source": [
    "from tools.jes import JES"
   ]
  },
  {
   "cell_type": "code",
   "execution_count": null,
   "id": "e1a723d3",
   "metadata": {},
   "outputs": [],
   "source": [
    "jes_corrector = JES(verbose=False)"
   ]
  },
  {
   "cell_type": "code",
   "execution_count": null,
   "id": "79128b1b",
   "metadata": {},
   "outputs": [],
   "source": [
    "events = NanoEventsFactory.from_root(\n",
    "    'root://cmseos.fnal.gov//store/user/snowmass/Snowmass2021//Delphes/ST_tch_14TeV_antitop_incl-powheg-pythia8-madspin_200PU/ST_tch_14TeV_antitop_incl-powheg-pythia8-madspin_109_0.root',\n",
    "    treepath='Delphes',\n",
    "    schemaclass = DelphesSchema,\n",
    ").events()"
   ]
  },
  {
   "cell_type": "code",
   "execution_count": null,
   "id": "aee4e27f",
   "metadata": {},
   "outputs": [],
   "source": [
    "events=events[np.around(events.Weight.Weight[:,9],14)!=0]"
   ]
  },
  {
   "cell_type": "code",
   "execution_count": null,
   "id": "b895036a",
   "metadata": {},
   "outputs": [],
   "source": [
    "ak.min(np.abs(np.around(events.Weight.Weight[:,9],14)))"
   ]
  },
  {
   "cell_type": "code",
   "execution_count": null,
   "id": "091abb5d",
   "metadata": {
    "scrolled": true
   },
   "outputs": [],
   "source": [
    "ak.max(events.Weight.Weight[:,41]/events.Weight.Weight[:,0])"
   ]
  },
  {
   "cell_type": "code",
   "execution_count": null,
   "id": "497a992a",
   "metadata": {},
   "outputs": [],
   "source": [
    "events.Weight.Weight[:,0][4858]"
   ]
  },
  {
   "cell_type": "code",
   "execution_count": null,
   "id": "fde59ad5",
   "metadata": {},
   "outputs": [],
   "source": [
    "events.Weight.Weight[:,111][219]"
   ]
  },
  {
   "cell_type": "code",
   "execution_count": null,
   "id": "bf7785e3",
   "metadata": {},
   "outputs": [],
   "source": [
    "events.Weight.Weight[:,9][219]"
   ]
  },
  {
   "cell_type": "code",
   "execution_count": null,
   "id": "e3d25d8b",
   "metadata": {},
   "outputs": [],
   "source": [
    "events.Weight.Weight[:,9]"
   ]
  },
  {
   "cell_type": "code",
   "execution_count": null,
   "id": "3cd7bfc8",
   "metadata": {},
   "outputs": [],
   "source": [
    "from yaml import Loader, Dumper\n",
    "import yaml\n",
    "with open('../data/samples.yaml', 'r') as f:\n",
    "    samples = yaml.load(f, Loader = Loader)\n",
    "\n",
    "fileset = {\n",
    "'WJetsToLNu_TuneCUETP8M1_14TeV-madgraphMLM-pythia8_200PU': samples['WJetsToLNu_TuneCUETP8M1_14TeV-madgraphMLM-pythia8_200PU']['delphes']\n",
    "}"
   ]
  },
  {
   "cell_type": "code",
   "execution_count": null,
   "id": "b749fe29",
   "metadata": {},
   "outputs": [],
   "source": [
    "import os\n",
    "\n",
    "run2_to_delphes = {\n",
    "    'WJetsToLNu_TuneCUETP8M1_14TeV-madgraphMLM-pythia8_200PU': 'WJetsToLNu_TuneCP5_13TeV-madgraphMLM-pythia8',\n",
    "}\n",
    "\n",
    "effs = {}\n",
    "for s in fileset.keys():\n",
    "    effs[s] = {}\n",
    "    for b in ['0b', '1b', '2b', '1h']:\n",
    "        effs[s][b] = Hist2D.from_json(os.path.expandvars(\"../data/htag/eff_%s_%s.json\"%(run2_to_delphes[s],b)))"
   ]
  },
  {
   "cell_type": "code",
   "execution_count": null,
   "id": "976c7afd",
   "metadata": {},
   "outputs": [],
   "source": [
    "events.Weight.Weight"
   ]
  },
  {
   "cell_type": "code",
   "execution_count": null,
   "id": "9a650937",
   "metadata": {},
   "outputs": [],
   "source": [
    "for file in fileset['WJetsToLNu_TuneCUETP8M1_14TeV-madgraphMLM-pythia8_200PU']:\n",
    "    events = NanoEventsFactory.from_root(\n",
    "        file,\n",
    "        treepath='Delphes',\n",
    "        schemaclass = DelphesSchema,\n",
    "    ).events()\n",
    "    events = events[ak.num(events.Weight.Weight)!=0]\n",
    "    if len(events) == 0:\n",
    "        print(file)"
   ]
  },
  {
   "cell_type": "code",
   "execution_count": null,
   "id": "2918e29c",
   "metadata": {},
   "outputs": [],
   "source": [
    "events = events[ak.num(events.Weight.Weight)!=0]\n",
    "#define objects\n",
    "        \n",
    "#electrons\n",
    "ele_sel_l = (events.ElectronLoose.PT>10)\n",
    "electron_l = get_four_vec_fromPtEtaPhiM(\n",
    "    None,\n",
    "    pt = events.ElectronLoose.PT[ele_sel_l],\n",
    "    eta = events.ElectronLoose.Eta[ele_sel_l],\n",
    "    phi = events.ElectronLoose.Phi[ele_sel_l],\n",
    "    M = np.zeros_like(events.ElectronLoose.PT[ele_sel_l]),\n",
    "    copy = False,\n",
    ")\n",
    "        \n",
    "electron_l['iso'] = events.ElectronLoose.IsolationVar[ele_sel_l]\n",
    "ele_l = electron_l[((electron_l['iso']<0.3)&(electron_l.pt>10)&(np.abs(electron_l.eta)<3))]\n",
    "        \n",
    "ele_sel_m = (events.ElectronMedium.PT>10)\n",
    "electron_m = get_four_vec_fromPtEtaPhiM(\n",
    "    None,\n",
    "    pt = events.ElectronMedium.PT[ele_sel_m],\n",
    "    eta = events.ElectronMedium.Eta[ele_sel_m],\n",
    "    phi = events.ElectronMedium.Phi[ele_sel_m],\n",
    "    M = np.zeros_like(events.ElectronMedium.PT[ele_sel_m]),\n",
    "    copy = False,\n",
    ")\n",
    "        \n",
    "electron_m['iso'] = events.ElectronMedium.IsolationVar[ele_sel_m]\n",
    "\n",
    "ele_m = electron_m[((electron_m['iso']<0.3)&(electron_m.pt>10)&(np.abs(electron_m.eta)<3))]\n",
    "        \n",
    "ele_sel_t = (events.ElectronTight.PT>10)\n",
    "electron_t = get_four_vec_fromPtEtaPhiM(\n",
    "    None,\n",
    "    pt = events.ElectronTight.PT[ele_sel_t],\n",
    "    eta = events.ElectronTight.Eta[ele_sel_t],\n",
    "    phi = events.ElectronTight.Phi[ele_sel_t],\n",
    "    M = np.zeros_like(events.ElectronTight.PT[ele_sel_t]),\n",
    "    copy = False,\n",
    ")\n",
    "        \n",
    "electron_t['iso'] = events.ElectronTight.IsolationVar[ele_sel_t]\n",
    "\n",
    "ele_t = electron_t[((electron_t['iso']<0.3)&(electron_t.pt>10)&(np.abs(electron_t.eta)<3))]\n",
    "\n",
    "#muons\n",
    "mu_sel_l = (events.MuonLoose.PT>4)\n",
    "muon_l = get_four_vec_fromPtEtaPhiM(\n",
    "    None,\n",
    "    pt = events.MuonLoose.PT[mu_sel_l],\n",
    "    eta = events.MuonLoose.Eta[mu_sel_l],\n",
    "    phi = events.MuonLoose.Phi[mu_sel_l],\n",
    "    M = np.zeros_like(events.MuonLoose.PT[mu_sel_l]),\n",
    "    copy = False,\n",
    ")\n",
    "muon_l['iso'] = events.MuonLoose.IsolationVar[mu_sel_l]\n",
    "\n",
    "muon_l = muon_l[((muon_l['iso']<0.25)&(muon_l.pt>4)&(np.abs(muon_l.eta)<2.8))]\n",
    "        \n",
    "mu_sel_m = (events.MuonMedium.PT>4)\n",
    "muon_m = get_four_vec_fromPtEtaPhiM(\n",
    "    None,\n",
    "    pt = events.MuonMedium.PT[mu_sel_m],\n",
    "    eta = events.MuonMedium.Eta[mu_sel_m],\n",
    "    phi = events.MuonMedium.Phi[mu_sel_m],\n",
    "    M = np.zeros_like(events.MuonMedium.PT[mu_sel_m]),\n",
    "    copy = False,\n",
    ")\n",
    "muon_m['iso'] = events.MuonMedium.IsolationVar[mu_sel_m]\n",
    "\n",
    "muon_m = muon_m[((muon_m['iso']<0.25)&(muon_m.pt>4)&(np.abs(muon_m.eta)<2.8))]\n",
    "        \n",
    "mu_sel_t = (events.MuonTight.PT>4)\n",
    "muon_t = get_four_vec_fromPtEtaPhiM(\n",
    "    None,\n",
    "    pt = events.MuonTight.PT[mu_sel_t],\n",
    "    eta = events.MuonTight.Eta[mu_sel_t],\n",
    "    phi = events.MuonTight.Phi[mu_sel_t],\n",
    "    M = np.zeros_like(events.MuonTight.PT[mu_sel_t]),\n",
    "    copy = False,\n",
    ")\n",
    "muon_t['iso'] = events.MuonTight.IsolationVar[mu_sel_t]\n",
    "\n",
    "muon_t = muon_t[((muon_t['iso']<0.25)&(muon_t.pt>4)&(np.abs(muon_t.eta)<2.8))]\n",
    "        \n",
    "#taus\n",
    "tau_sel = (events.JetPUPPI.PT>30)\n",
    "tau = get_four_vec_fromPtEtaPhiM(\n",
    "    None,\n",
    "    pt = events.JetPUPPI.PT[tau_sel],\n",
    "    eta = events.JetPUPPI.Eta[tau_sel],\n",
    "    phi = events.JetPUPPI.Phi[tau_sel],\n",
    "    M = events.JetPUPPI.Mass[tau_sel],\n",
    "    copy = False,\n",
    ")\n",
    "tau['iso'] = events.JetPUPPI.TauTag[tau_sel]   # > 0 should be loose\n",
    "\n",
    "tau_l = tau[((tau['iso']>0)&(tau.pt>30)&(np.abs(tau.eta)<3))]\n",
    "\n",
    "#gen\n",
    "\n",
    "gen_sel = ((abs(events.Particle.PID)==6) | (abs(events.Particle.PID)==5) | (abs(events.Particle.PID)==25))  # NOTE: attempt to speed up reading gigantic gen particle branches\n",
    "\n",
    "gen = get_four_vec_fromPtEtaPhiM(\n",
    "    None,\n",
    "    pt = events.Particle.PT[gen_sel],\n",
    "    eta = events.Particle.Eta[gen_sel],\n",
    "    phi = events.Particle.Phi[gen_sel],\n",
    "    M = events.Particle.Mass[gen_sel],\n",
    "    copy = False,\n",
    ")\n",
    "gen['pdgId'] = events.Particle.PID[gen_sel]\n",
    "gen['status'] = events.Particle.Status[gen_sel]\n",
    "\n",
    "#higgs = gen[((abs(gen.pdgId)==25)&(gen.status==62))]\n",
    "higgs = gen[(abs(gen.pdgId)==25)][:,-1:]  # just get the last Higgs. Delphes is not keeping all the higgses.\n",
    "\n",
    "bquark = gen[((abs(gen.pdgId)==5)&(gen.status==71))]  # I suspect that Delphes does not keep b's with pt less than 20?\n",
    "\n",
    "#top = gen[gen.pdgId==6][:,-2:-1]\n",
    "#atop = gen[gen.pdgId==-6][:,-2:-1]\n",
    "#ttbar = ak.flatten(cross(top, atop))\n",
    "\n",
    "dibquark = choose(bquark, 2)\n",
    "b_DeltaR = delta_r(dibquark['0'], dibquark['1'])\n",
    "\n",
    "\n",
    "jet = getJets(events, jes_corrector, '', delphes=True)   #getJets uses JetPUPPILoose for delphes samples\n",
    "            \n",
    "\n",
    "#follow Delphes recommendations\n",
    "jet = jet[jet.pt > 30]\n",
    "jet = jet[np.abs(jet.eta) < 3] #eta within tracker range\n",
    "jet = jet[~match(jet, ele_l, deltaRCut=0.4)] #remove electron overlap\n",
    "jet = jet[~match(jet, ele_m, deltaRCut=0.4)]\n",
    "jet = jet[~match(jet, ele_t, deltaRCut=0.4)]\n",
    "jet = jet[~match(jet, muon_l, deltaRCut=0.4)] #remove muon overlap\n",
    "jet = jet[~match(jet, muon_m, deltaRCut=0.4)]\n",
    "jet = jet[~match(jet, muon_t, deltaRCut=0.4)]\n",
    "jet = jet[ak.argsort(jet.pt, ascending=False)]\n",
    "\n",
    "#fatjets\n",
    "\n",
    "# Need FatJets and GenParts\n",
    "# FatJets start at pt>200 and go all the way to eta 3.x\n",
    "# This should be fine?\n",
    "# Objects are defined here: https://twiki.cern.ch/twiki/bin/view/CMS/DelphesInstructions\n",
    "# restrict abs(eta) to 2.8 (whatever the tracker acceptance of PhaseII CMS is)\n",
    "\n",
    "               \n",
    "fatjet = getFatjets(events, jes_corrector, '', '', delphes=True)\n",
    "\n",
    "fatjet = fatjet[np.abs(fatjet.eta) < 3] #eta within tracker range        \n",
    "fatjet = fatjet[~match(fatjet, ele_l, deltaRCut=0.8)] #remove electron overlap\n",
    "fatjet = fatjet[~match(fatjet, ele_m, deltaRCut=0.8)] #remove electron overlap\n",
    "fatjet = fatjet[~match(fatjet, ele_t, deltaRCut=0.8)] #remove electron overlap\n",
    "fatjet = fatjet[~match(fatjet, muon_l, deltaRCut=0.8)] #remove muon overlap\n",
    "fatjet = fatjet[~match(fatjet, muon_m, deltaRCut=0.8)] #remove muon overlap\n",
    "fatjet = fatjet[~match(fatjet, muon_t, deltaRCut=0.8)] #remove muon overlap\n",
    "\n",
    "fatjet_on_h = fatjet[np.abs(fatjet.mass-125)<25]\n",
    "on_h = (ak.num(fatjet_on_h) > 0)\n",
    "\n",
    "lead_fatjet = fatjet[:,0:1]\n",
    " \n",
    "difatjet = choose(fatjet, 2)\n",
    "dijet = choose(jet[:,:4], 2)  # only take the 4 leading jets\n",
    "\n",
    "dphi_difatjet = np.arccos(np.cos(difatjet['0'].phi-difatjet['1'].phi))\n",
    "dphi_dijet = np.arccos(np.cos(dijet['0'].phi-dijet['1'].phi))\n",
    "AK8_QCD_veto = ak.all(dphi_difatjet<3.0, axis=1)  # veto any event with a back-to-back dijet system. No implicit cut on N_AK8 (ak.all!)\n",
    "AK4_QCD_veto = ak.all(dphi_dijet<3.0, axis=1)  # veto any event with a back-to-back dijet system. No implicit cut on N_AK4 (ak.all!)\n",
    "\n",
    "#MET\n",
    "\n",
    "met_pt = ak.flatten(events.PuppiMissingET.MET)\n",
    "genmet_pt = ak.flatten(events.GenMissingET.MET)\n",
    "met_phi = ak.flatten(events.PuppiMissingET.Phi)\n",
    "\n",
    "mt_AK8_MET = mt(fatjet.pt, fatjet.phi, met_pt, met_phi)\n",
    "min_mt_AK8_MET = ak.to_numpy(ak.min(mt_AK8_MET, axis=1))\n",
    "min_dphi_AK8_MET = ak.to_numpy(ak.min(np.arccos(np.cos(fatjet.phi-met_phi)), axis=1))\n",
    "min_dphi_AK4_MET = ak.to_numpy(ak.min(np.arccos(np.cos(jet.phi-met_phi)), axis=1))\n",
    "\n",
    "nb_in_fat = match_count(fatjet, bquark, deltaRCut=0.8)\n",
    "nhiggs_in_fat = match_count(fatjet, higgs, deltaRCut=0.8)\n",
    "zerohiggs = (nhiggs_in_fat==0)\n",
    "onehiggs = (nhiggs_in_fat==1)\n",
    "\n",
    "zerob = ((nb_in_fat==0) & (zerohiggs))  # verified to work!\n",
    "oneb  = ((nb_in_fat==1) & (zerohiggs))  # verified to work!\n",
    "twob  = ((nb_in_fat>=2) & (zerohiggs))  # verified to work!\n",
    "\n",
    "w_0b = get_weight(effs['WJetsToLNu_TuneCUETP8M1_14TeV-madgraphMLM-pythia8_200PU']['0b'], fatjet.pt, fatjet.eta)\n",
    "w_1b = get_weight(effs['WJetsToLNu_TuneCUETP8M1_14TeV-madgraphMLM-pythia8_200PU']['1b'], fatjet.pt, fatjet.eta)\n",
    "w_2b = get_weight(effs['WJetsToLNu_TuneCUETP8M1_14TeV-madgraphMLM-pythia8_200PU']['2b'], fatjet.pt, fatjet.eta)\n",
    "w_1h = get_weight(effs['WJetsToLNu_TuneCUETP8M1_14TeV-madgraphMLM-pythia8_200PU']['1h'], fatjet.pt, fatjet.eta)"
   ]
  },
  {
   "cell_type": "code",
   "execution_count": null,
   "id": "21267e86",
   "metadata": {},
   "outputs": [],
   "source": [
    "w_0b"
   ]
  },
  {
   "cell_type": "code",
   "execution_count": null,
   "id": "393c2a34",
   "metadata": {},
   "outputs": [],
   "source": [
    "events_150 = NanoEventsFactory.from_root(\n",
    "        '/nfs-7/userdata/ewallace/Hbb_MET/2HDMA_bb-gg_YY_XX_10_v4/2HDMa_gg_1500_150_10_delphes_ntuple.root:myana',\n",
    "        treepath='mytree',\n",
    "        schemaclass = BaseSchema,\n",
    "        #entry_stop = n_max,\n",
    "    ).events()\n",
    "\n",
    "events_250 = NanoEventsFactory.from_root(\n",
    "        '/nfs-7/userdata/ewallace/Hbb_MET/2HDMA_bb-gg_YY_XX_10_v4/2HDMa_gg_1500_250_10_delphes_ntuple.root',\n",
    "        treepath='myana/mytree',\n",
    "        schemaclass = BaseSchema,\n",
    "        #entry_stop = n_max,\n",
    "    ).events()\n",
    "\n",
    "events_350 = NanoEventsFactory.from_root(\n",
    "        '/nfs-7/userdata/ewallace/Hbb_MET/2HDMA_bb-gg_YY_XX_10_v4/2HDMa_gg_1500_350_10_delphes_ntuple.root',\n",
    "        treepath='myana/mytree',\n",
    "        schemaclass = BaseSchema,\n",
    "        #entry_stop = n_max,\n",
    "    ).events()\n",
    "\n",
    "events_500 = NanoEventsFactory.from_root(\n",
    "        '/nfs-7/userdata/ewallace/Hbb_MET/2HDMA_bb-gg_YY_XX_10_v4/2HDMa_gg_1500_500_10_delphes_ntuple.root',\n",
    "        treepath='myana/mytree',\n",
    "        schemaclass = BaseSchema,\n",
    "        #entry_stop = n_max,\n",
    "    ).events()   "
   ]
  },
  {
   "cell_type": "code",
   "execution_count": null,
   "id": "db0c575d",
   "metadata": {},
   "outputs": [],
   "source": [
    "events = NanoEventsFactory.from_root(\n",
    "        '/hadoop/cms/store/user/ewallace/ProjectMetis/2HDMa_gg_1600_750_10_HLLHC_GEN_v6/delphes/2HDMa_gg_1600_750_10_delphes_ntuple.root:myana',\n",
    "        treepath='mytree',\n",
    "        schemaclass = BaseSchema,\n",
    "        #entry_stop = n_max,\n",
    "    ).events() "
   ]
  },
  {
   "cell_type": "code",
   "execution_count": null,
   "id": "41356bdc",
   "metadata": {},
   "outputs": [],
   "source": [
    "events_1900_250 = NanoEventsFactory.from_root(\n",
    "        '/nfs-7/userdata/ewallace/Hbb_MET/2HDMA_bb-gg_YY_XX_10_v4/2HDMa_gg_1900_250_10_delphes.root',\n",
    "        treepath='',\n",
    "        schemaclass = BaseSchema,\n",
    "        #entry_stop = n_max,\n",
    "    ).events()"
   ]
  },
  {
   "cell_type": "code",
   "execution_count": null,
   "id": "3e0cff6b",
   "metadata": {},
   "outputs": [],
   "source": [
    "events_1900_250 = NanoEventsFactory.from_root(\n",
    "        '/nfs-7/userdata/ewallace/Hbb_MET/2HDMA_bb-gg_YY_XX_10_v4/2HDMa_gg_1900_250_10_delphes_ntuple.root',\n",
    "        treepath='myana/mytree',\n",
    "        schemaclass = BaseSchema,\n",
    "        #entry_stop = n_max,\n",
    "    ).events()"
   ]
  },
  {
   "cell_type": "code",
   "execution_count": null,
   "id": "aae38cd0",
   "metadata": {},
   "outputs": [],
   "source": [
    "WJet = NanoEventsFactory.from_root(\n",
    "        '/nfs-7/userdata/dspitzba/merge_WJetsToLNu_GenMET-100_TuneCUETP8M1_14TeV-madgraphMLM-pythia8_200PU_v16/merge_1.root',\n",
    "        treepath='mytree',\n",
    "        schemaclass = BaseSchema,\n",
    "        #entry_stop = n_max,\n",
    "    ).events()"
   ]
  },
  {
   "cell_type": "code",
   "execution_count": null,
   "id": "011ddceb",
   "metadata": {},
   "outputs": [],
   "source": [
    "lheweights = WJet.lheweight_val\n",
    "lheweight_ratio = {}\n",
    "#for i in range(363,463):\n",
    "#    lheweight_ratio[i] = lheweights[:,i]/lheweights[:,0]\n",
    "#for i in [463,464]:\n",
    "#    lheweight_ratio[i] = lheweights[:,i]/lheweights[:,0]\n",
    "for i in [5, 10, 15, 20, 30, 40]:\n",
    "    lheweight_ratio[i] = ak.flatten(lheweights[:,i:i+1]/lheweights[:,0:1])"
   ]
  },
  {
   "cell_type": "code",
   "execution_count": null,
   "id": "ae98cce1",
   "metadata": {},
   "outputs": [],
   "source": [
    "lheweight_ratio"
   ]
  },
  {
   "cell_type": "code",
   "execution_count": null,
   "id": "ccc4af78",
   "metadata": {},
   "outputs": [],
   "source": [
    "WJet.lheweight_size[WJet.lheweight_size==0]"
   ]
  },
  {
   "cell_type": "code",
   "execution_count": null,
   "id": "8387d419",
   "metadata": {},
   "outputs": [],
   "source": [
    "events_250 = NanoEventsFactory.from_root(\n",
    "        '/nfs-7/userdata/ewallace/Hbb_MET/2HDMA_bb-gg_YY_XX_10_v4/2HDMa_gg_2250_250_10_delphes_ntuple.root:myana',\n",
    "        treepath='mytree',\n",
    "        schemaclass = BaseSchema,\n",
    "        #entry_stop = n_max,\n",
    "    ).events()"
   ]
  },
  {
   "cell_type": "code",
   "execution_count": null,
   "id": "1e46155b",
   "metadata": {},
   "outputs": [],
   "source": [
    "len(events_250)"
   ]
  },
  {
   "cell_type": "code",
   "execution_count": null,
   "id": "334f648a",
   "metadata": {},
   "outputs": [],
   "source": [
    "zjets = NanoEventsFactory.from_root(\n",
    "        '/nfs-7/userdata/ewallace/Hbb_MET/merge_ZJetsToNuNu_HT-2500ToInf_14TeV-madgraph_200PU_v4/ZJetsToNuNu_HT2500toInf_delphes_ntuple.root:myana',\n",
    "        treepath='mytree',\n",
    "        schemaclass = BaseSchema,\n",
    "        #entry_stop = n_max,\n",
    "    ).events()"
   ]
  },
  {
   "cell_type": "code",
   "execution_count": null,
   "id": "548b3b9f",
   "metadata": {},
   "outputs": [],
   "source": [
    "test = NanoEventsFactory.from_root(\n",
    "        '/nfs-7/userdata/ewallace/Hbb_MET/2HDMA_bb-gg_YY_XX_10_v4/2HDMa_bb_1000_500_10_delphes_ntuple.root:myana',\n",
    "        treepath='mytree',\n",
    "        schemaclass = BaseSchema,\n",
    "        #entry_stop = n_max,\n",
    "    ).events()"
   ]
  },
  {
   "cell_type": "code",
   "execution_count": null,
   "id": "ca4372a0",
   "metadata": {},
   "outputs": [],
   "source": [
    "len(test)"
   ]
  },
  {
   "cell_type": "code",
   "execution_count": null,
   "id": "90a71336",
   "metadata": {},
   "outputs": [],
   "source": [
    "fatjet_pt = zjets.fatjet_pt\n",
    "jet_pt = zjets.jetpuppi_pt"
   ]
  },
  {
   "cell_type": "code",
   "execution_count": null,
   "id": "39471006",
   "metadata": {},
   "outputs": [],
   "source": [
    "ak.sum(jet_pt, axis=1).tolist()"
   ]
  },
  {
   "cell_type": "code",
   "execution_count": null,
   "id": "b6ac303d",
   "metadata": {},
   "outputs": [],
   "source": [
    "import numpy as np\n",
    "import awkward as ak\n",
    "import matplotlib.pyplot as plt\n",
    "import mplhep as hep\n",
    "plt.style.use(hep.style.CMS)"
   ]
  },
  {
   "cell_type": "code",
   "execution_count": null,
   "id": "1f70a76f",
   "metadata": {},
   "outputs": [],
   "source": [
    "plt.hist(ak.sum(jet_pt, axis=1), bins=np.linspace(900,3900,12), histtype = 'step', label = 'ZJets2500toInf')\n",
    "plt.xlabel(r'$H_T$')\n",
    "plt.ylabel('Events')"
   ]
  },
  {
   "cell_type": "code",
   "execution_count": null,
   "id": "f063d217",
   "metadata": {},
   "outputs": [],
   "source": [
    "plt.hist(ak.flatten(fatjet_pt), bins=np.linspace(200,2000,10), histtype = 'step', label = 'ZJets2500toInf')"
   ]
  },
  {
   "cell_type": "code",
   "execution_count": null,
   "id": "cb116d8f",
   "metadata": {},
   "outputs": [],
   "source": [
    "from yaml import Loader, Dumper\n",
    "import yaml\n",
    "with open('../data/samples.yaml', 'r') as f:\n",
    "    samples = yaml.load(f, Loader = Loader)"
   ]
  },
  {
   "cell_type": "code",
   "execution_count": null,
   "id": "e3d38a75",
   "metadata": {},
   "outputs": [],
   "source": [
    "samples.keys()"
   ]
  },
  {
   "cell_type": "code",
   "execution_count": null,
   "id": "57b07a92",
   "metadata": {},
   "outputs": [],
   "source": [
    "samples['ST_tch_14TeV_top_incl-powheg-pythia8-madspin_200PU']['xsec']"
   ]
  },
  {
   "cell_type": "code",
   "execution_count": null,
   "id": "c430eae4",
   "metadata": {},
   "outputs": [],
   "source": [
    "from yaml import Loader, Dumper\n",
    "import yaml\n",
    "    \n",
    "with open('../data/samples.yaml', 'r') as f:\n",
    "    samples = yaml.load(f, Loader = Loader)\n",
    "\n",
    "fileset = {\n",
    "            #'TT_TuneCUETP8M2T4_14TeV-powheg-pythia8_200PU': samples['TT_TuneCUETP8M2T4_14TeV-powheg-pythia8_200PU']['skim'],\n",
    "            #'ZJetsToNuNu_HT-100To200_14TeV-madgraph_200PU': samples['ZJetsToNuNu_HT-100To200_14TeV-madgraph_200PU']['skim'],\n",
    "            #'ZJetsToNuNu_HT-200To400_14TeV-madgraph_200PU': samples['ZJetsToNuNu_HT-200To400_14TeV-madgraph_200PU']['skim'],\n",
    "            #'ZJetsToNuNu_HT-400To600_14TeV-madgraph_200PU': samples['ZJetsToNuNu_HT-400To600_14TeV-madgraph_200PU']['skim'],\n",
    "            #'ZJetsToNuNu_HT-600To800_14TeV-madgraph_200PU': samples['ZJetsToNuNu_HT-600To800_14TeV-madgraph_200PU']['skim'],\n",
    "            #'ZJetsToNuNu_HT-800To1200_14TeV-madgraph_200PU': samples['ZJetsToNuNu_HT-800To1200_14TeV-madgraph_200PU']['skim'],\n",
    "            #'ZJetsToNuNu_HT-1200To2500_14TeV-madgraph_200PU': samples['ZJetsToNuNu_HT-1200To2500_14TeV-madgraph_200PU']['skim'],\n",
    "            #'W0JetsToLNu_TuneCUETP8M1_14TeV-madgraphMLM-pythia8_200PU': samples['W0JetsToLNu_TuneCUETP8M1_14TeV-madgraphMLM-pythia8_200PU']['skim'],\n",
    "            #'W1JetsToLNu_TuneCUETP8M1_14TeV-madgraphMLM-pythia8_200PU': samples['W1JetsToLNu_TuneCUETP8M1_14TeV-madgraphMLM-pythia8_200PU']['skim'],\n",
    "            #'W2JetsToLNu_TuneCUETP8M1_14TeV-madgraphMLM-pythia8_200PU': samples['W2JetsToLNu_TuneCUETP8M1_14TeV-madgraphMLM-pythia8_200PU']['skim'],\n",
    "            #'W3JetsToLNu_TuneCUETP8M1_14TeV-madgraphMLM-pythia8_200PU': samples['W3JetsToLNu_TuneCUETP8M1_14TeV-madgraphMLM-pythia8_200PU']['skim'],\n",
    "            #'2HDMa_bb_sinp_0.35_tanb_1.0_mXd_10_MH3_1500_MH4_150_MH2_1500_MHC_1500': samples['2HDMa_bb_sinp_0.35_tanb_1.0_mXd_10_MH3_1500_MH4_150_MH2_1500_MHC_1500']['ntuples'],\n",
    "            #'2HDMa_bb_sinp_0.35_tanb_1.0_mXd_10_MH3_1500_MH4_250_MH2_1500_MHC_1500': samples['2HDMa_bb_sinp_0.35_tanb_1.0_mXd_10_MH3_1500_MH4_250_MH2_1500_MHC_1500']['ntuples'],\n",
    "            #'2HDMa_bb_sinp_0.35_tanb_1.0_mXd_10_MH3_1500_MH4_350_MH2_1500_MHC_1500': samples['2HDMa_bb_sinp_0.35_tanb_1.0_mXd_10_MH3_1500_MH4_350_MH2_1500_MHC_1500']['ntuples'],\n",
    "            #'2HDMa_bb_sinp_0.35_tanb_1.0_mXd_10_MH3_1500_MH4_500_MH2_1500_MHC_1500': samples['2HDMa_bb_sinp_0.35_tanb_1.0_mXd_10_MH3_1500_MH4_500_MH2_1500_MHC_1500']['ntuples'],\n",
    "            #'2HDMa_bb_sinp_0.35_tanb_1.0_mXd_10_MH3_1500_MH4_750_MH2_1500_MHC_1500': samples['2HDMa_bb_sinp_0.35_tanb_1.0_mXd_10_MH3_1500_MH4_750_MH2_1500_MHC_1500']['ntuples'],\n",
    "            '2HDMa_gg_sinp_0.35_tanb_1.0_mXd_10_MH3_1500_MH4_750_MH2_1500_MHC_1500': samples['2HDMa_gg_sinp_0.35_tanb_1.0_mXd_10_MH3_1500_MH4_750_MH2_1500_MHC_1500']['ntuples'],\n",
    "}\n",
    "\n",
    "meta_accumulator = {}\n",
    "for sample in fileset:\n",
    "    if sample not in meta_accumulator:\n",
    "        meta_accumulator.update({sample: processor.defaultdict_accumulator(int)})\n",
    "    for f in fileset[sample]:\n",
    "        meta_accumulator.update({f: processor.defaultdict_accumulator(int)})"
   ]
  },
  {
   "cell_type": "code",
   "execution_count": null,
   "id": "c497cb02",
   "metadata": {},
   "outputs": [],
   "source": [
    "events_250 = NanoEventsFactory.from_root(\n",
    "        samples['2HDMa_gg_sinp_0.35_tanb_1.0_mXd_10_MH3_1500_MH4_750_MH2_1500_MHC_1500']['ntuples'][0],\n",
    "        treepath='mytree',\n",
    "        schemaclass = BaseSchema,\n",
    "        #entry_stop = n_max,\n",
    "    ).events()"
   ]
  },
  {
   "cell_type": "code",
   "execution_count": null,
   "id": "efb2ba76",
   "metadata": {},
   "outputs": [],
   "source": [
    "fatjet = get_four_vec_fromPtEtaPhiM(\n",
    "            None,\n",
    "            pt = events_250.fatjet_pt,\n",
    "            eta = events_250.fatjet_eta,\n",
    "            phi = events_250.fatjet_phi,\n",
    "            M = events_250.fatjet_msoftdrop,        #Using softdrop from now on\n",
    "            copy = False,\n",
    "        )"
   ]
  },
  {
   "cell_type": "code",
   "execution_count": null,
   "id": "140ba4a4",
   "metadata": {},
   "outputs": [],
   "source": [
    "fatjet2 = getFatjets(events_250, jes_corrector,'',[0.05,0.1])"
   ]
  },
  {
   "cell_type": "code",
   "execution_count": null,
   "id": "6cfcf710",
   "metadata": {},
   "outputs": [],
   "source": [
    "fatjet.mass"
   ]
  },
  {
   "cell_type": "code",
   "execution_count": null,
   "id": "49accb3d",
   "metadata": {},
   "outputs": [],
   "source": [
    "fatjet2.mass"
   ]
  },
  {
   "cell_type": "code",
   "execution_count": null,
   "id": "69c435ea",
   "metadata": {},
   "outputs": [],
   "source": [
    "fatjet.pt[ak.num(fatjet)>1]"
   ]
  },
  {
   "cell_type": "code",
   "execution_count": null,
   "id": "5401c55c",
   "metadata": {},
   "outputs": [],
   "source": [
    "electron = get_four_vec_fromPtEtaPhiM(\n",
    "            None,\n",
    "            pt = events_250.elec_pt,\n",
    "            eta = events_250.elec_eta,\n",
    "            phi = events_250.elec_phi,\n",
    "            M = events_250.elec_mass,\n",
    "            copy = False,\n",
    "        )\n",
    "electron['id'] = events_250.elec_idpass  # > 0 should be loose\n",
    "electron['iso'] = events_250.elec_isopass\n",
    "electron['charge'] = events_250.elec_charge\n",
    "\n",
    "ele_l = electron[((electron['id']>0)&(electron['iso']>0)&(electron.pt>10)&(np.abs(electron.eta)<3))]\n",
    "        \n",
    "        #muons\n",
    "        \n",
    "muon = get_four_vec_fromPtEtaPhiM(\n",
    "            None,\n",
    "            pt = events_250.muon_pt,\n",
    "            eta = events_250.muon_eta,\n",
    "            phi = events_250.muon_phi,\n",
    "            M = events_250.muon_mass,\n",
    "            copy = False,\n",
    "        )\n",
    "muon['id'] = events_250.muon_idpass  # > 0 should be loose\n",
    "muon['iso'] = events_250.muon_isopass\n",
    "muon['charge'] = events_250.muon_charge\n",
    "\n",
    "muon_l = muon[((muon['id']>0)&(muon['iso']>0)&(muon.pt>4)&(np.abs(muon.eta)<2.8))]\n",
    "        \n",
    "#taus\n",
    "        \n",
    "tau = get_four_vec_fromPtEtaPhiM(\n",
    "            None,\n",
    "            pt = events_250.tau_pt,\n",
    "            eta = events_250.tau_eta,\n",
    "            phi = events_250.tau_phi,\n",
    "            M = events_250.tau_mass,\n",
    "            copy = False,\n",
    "        )\n",
    "tau['iso'] = events_250.tau_isopass   # > 0 should be loose\n",
    "tau['charge'] = events_250.tau_charge\n",
    "\n",
    "tau_l = tau[((tau['iso']>0)&(tau.pt>30)&(np.abs(tau.eta)<3))]\n",
    "        \n",
    "#photons\n",
    "        \n",
    "gamma = get_four_vec_fromPtEtaPhiM(\n",
    "            None,\n",
    "            pt = events_250.gamma_pt,\n",
    "            eta = events_250.gamma_eta,\n",
    "            phi = events_250.gamma_phi,\n",
    "            M = events_250.gamma_mass,\n",
    "            copy = False,\n",
    "        )\n",
    "gamma['id'] = events_250.gamma_idpass  # > 0 should be loose\n",
    "gamma['iso'] = events_250.gamma_isopass\n",
    "\n",
    "gamma_l = gamma[((gamma['id']>0)&(gamma['iso']>0)&(gamma.pt>20)&(np.abs(gamma.eta)<3))]\n",
    "\n",
    "\n",
    "jet = getJets(events_250, jes_corrector, pt_var='')\n",
    "#jet['id'] = events_250.jetpuppi_idpass\n",
    "#jet['btag'] = events_250.jetpuppi_btag\n",
    "        \n",
    "        \n",
    "#follow Delphes recommendations\n",
    "jet = jet[jet.pt > 30]\n",
    "jet = jet[jet.id > 0]\n",
    "jet = jet[np.abs(jet.eta) < 3] #eta within tracker range\n",
    "        \n",
    "jet = jet[~match(jet, ele_l, deltaRCut=0.4)] #remove electron overlap\n",
    "jet = jet[~match(jet, muon_l, deltaRCut=0.4)] #remove muon overlap\n",
    "\n",
    "btag = jet[jet.btag>0] #loose wp for now\n",
    "        \n",
    "#fatjets\n",
    "\n",
    "# Need FatJets and GenParts\n",
    "# FatJets start at pt>200 and go all the way to eta 3.x\n",
    "# This should be fine?\n",
    "# Objects are defined here: https://twiki.cern.ch/twiki/bin/view/CMS/DelphesInstructions\n",
    "# Maybe restrict abs(eta) to 2.8 or 3 (whatever the tracker acceptance of PhaseII CMS is)\n",
    "fatjet = get_four_vec_fromPtEtaPhiM(\n",
    "            None,\n",
    "            pt = events_250.fatjet_pt,\n",
    "            eta = events_250.fatjet_eta,\n",
    "            phi = events_250.fatjet_phi,\n",
    "            M = events_250.fatjet_msoftdrop,        #Using softdrop from now on\n",
    "            copy = False,\n",
    "        )\n",
    "        \n",
    "#fatjet['m'] = events.fatjet_mass\n",
    "fatjet['tau1'] = events_250.fatjet_tau1\n",
    "fatjet['tau2'] = events_250.fatjet_tau2\n",
    "fatjet['tau3'] = events_250.fatjet_tau3\n",
    "fatjet['tau4'] = events_250.fatjet_tau4\n",
    "        \n",
    "fatjet = fatjet[np.abs(fatjet.eta) < 3] #eta within tracker range\n",
    "fatjet = fatjet[ak.argsort(fatjet.pt, ascending=False)]\n",
    "#\n",
    "fatjet = fatjet[~match(fatjet, ele_l, deltaRCut=0.8)] #remove electron overlap\n",
    "fatjet = fatjet[~match(fatjet, muon_l, deltaRCut=0.8)] #remove muon overlap\n",
    "#\n",
    "extrajet  = jet[~match(jet, fatjet, deltaRCut=1.2)] # remove AK4 jets that overlap with AK8 jets\n",
    "extrabtag = extrajet[extrajet.btag>0] #loose wp for now]\n",
    "        \n",
    "tau21 = np.divide(fatjet.tau2, fatjet.tau1)\n",
    "        \n",
    "fatjet_on_h = fatjet[np.abs(fatjet.mass-125)<25]\n",
    "on_h = (ak.num(fatjet_on_h) > 0)\n",
    "        \n",
    "lead_fatjet = fatjet[:,0:1]\n",
    "\n",
    "difatjet = choose(fatjet, 2)\n",
    "dijet = choose(jet[:,:4], 2)  # only take the 4 leading jets\n",
    "di_AK8_AK4 = cross(extrajet, fatjet)\n",
    "\n",
    "dphi_difatjet = np.arccos(np.cos(difatjet['0'].phi-difatjet['1'].phi))\n",
    "dphi_dijet = np.arccos(np.cos(dijet['0'].phi-dijet['1'].phi))\n",
    "dphi_AK8_AK4 = np.arccos(np.cos(di_AK8_AK4['0'].phi-di_AK8_AK4['1'].phi))\n",
    "# not back-to-back\n",
    "AK8_QCD_veto = ak.all(dphi_difatjet<3.0, axis=1)  # veto any event with a back-to-back dijet system. No implicit cut on N_AK8 (ak.all!)\n",
    "AK4_QCD_veto = ak.all(dphi_dijet<3.0, axis=1)  # veto any event with a back-to-back dijet system. No implicit cut on N_AK4 (ak.all!)\n",
    "min_dphi_AK8_AK4 = ak.to_numpy(ak.min(dphi_AK8_AK4, axis=1))"
   ]
  },
  {
   "cell_type": "code",
   "execution_count": null,
   "id": "156b75fb",
   "metadata": {},
   "outputs": [],
   "source": [
    "met_pt = ak.flatten(events_250.metpuppi_pt)\n",
    "met_phi = ak.flatten(events_250.metpuppi_phi)\n",
    "        \n",
    "mt_AK8_MET = mt(fatjet.pt, fatjet.phi, met_pt, met_phi)\n",
    "min_mt_AK8_MET = ak.to_numpy(ak.min(mt_AK8_MET, axis=1))\n",
    "min_dphi_AK8_MET = ak.to_numpy(ak.min(np.arccos(np.cos(fatjet.phi-met_phi)), axis=1))\n",
    "min_dphi_AK4_MET = ak.to_numpy(ak.min(np.arccos(np.cos(jet.phi-met_phi)), axis=1))\n",
    "min_dphi_AK4clean_MET = ak.to_numpy(ak.min(np.arccos(np.cos(extrajet.phi-met_phi)), axis=1))  "
   ]
  },
  {
   "cell_type": "code",
   "execution_count": null,
   "id": "aef4adf6",
   "metadata": {},
   "outputs": [],
   "source": [
    "run2_to_delphes = {\n",
    "    #'ZJetsToNuNu_HT-200To400_14TeV-madgraph_200PU': 'ZJetsToNuNu_HT-200To400_TuneCP5_13TeV-madgraphMLM-pythia8',\n",
    "    #'ZJetsToNuNu_HT-400To600_14TeV-madgraph_200PU': 'ZJetsToNuNu_HT-400To600_TuneCP5_13TeV-madgraphMLM-pythia8',\n",
    "    #'ZJetsToNuNu_HT-600To800_14TeV-madgraph_200PU': 'ZJetsToNuNu_HT-600To800_TuneCP5_13TeV-madgraphMLM-pythia8',\n",
    "    #'ZJetsToNuNu_HT-800To1200_14TeV-madgraph_200PU': 'ZJetsToNuNu_HT-800To1200_TuneCP5_13TeV-madgraphMLM-pythia8',\n",
    "    #'ZJetsToNuNu_HT-1200To2500_14TeV-madgraph_200PU': 'ZJetsToNuNu_HT-1200To2500_TuneCP5_13TeV-madgraphMLM-pythia8',\n",
    "    '2HDMa_gg_sinp_0.35_tanb_1.0_mXd_10_MH3_1500_MH4_750_MH2_1500_MHC_1500': 'ttHTobb_M125_TuneCP5_13TeV-powheg-pythia8',\n",
    "}\n",
    "\n",
    "effs = {}\n",
    "for s in fileset.keys():\n",
    "    effs[s] = {}\n",
    "    for b in ['0b', '1b', '2b', '1h']:\n",
    "        effs[s][b] = Hist2D.from_json(os.path.expandvars(\"../data/htag/eff_%s_%s.json\"%(run2_to_delphes[s],b)))"
   ]
  },
  {
   "cell_type": "code",
   "execution_count": null,
   "id": "822933a8",
   "metadata": {},
   "outputs": [],
   "source": [
    "gen = get_four_vec_fromPtEtaPhiM(\n",
    "            None,\n",
    "            pt = events_250.genpart_pt,\n",
    "            eta = events_250.genpart_eta,\n",
    "            phi = events_250.genpart_phi,\n",
    "            M = events_250.genpart_mass,\n",
    "            copy = False,\n",
    "        )\n",
    "gen['pdgId'] = events_250.genpart_pid\n",
    "gen['status'] = events_250.genpart_status\n",
    "\n",
    "higgs = gen[((abs(gen.pdgId)==25)&(gen.status==62))]\n",
    "\n",
    "bquark = gen[((abs(gen.pdgId)==5)&(gen.status==71))]\n",
    "        \n",
    "nb_in_fat = match_count(fatjet, bquark, deltaRCut=0.8)\n",
    "nhiggs_in_fat = match_count(fatjet, higgs, deltaRCut=0.8)\n",
    "zerohiggs = (nhiggs_in_fat==0)\n",
    "onehiggs = (nhiggs_in_fat==1)\n",
    "        \n",
    "zerob = ((nb_in_fat==0) & (zerohiggs))  # verified to work!\n",
    "oneb  = ((nb_in_fat==1) & (zerohiggs))  # verified to work!\n",
    "twob  = ((nb_in_fat>=2) & (zerohiggs))  # verified to work!\n",
    "        \n",
    "w_0b = get_weight(effs['2HDMa_gg_sinp_0.35_tanb_1.0_mXd_10_MH3_1500_MH4_750_MH2_1500_MHC_1500']['0b'], fatjet.pt, fatjet.eta)\n",
    "w_1b = get_weight(effs['2HDMa_gg_sinp_0.35_tanb_1.0_mXd_10_MH3_1500_MH4_750_MH2_1500_MHC_1500']['1b'], fatjet.pt, fatjet.eta)\n",
    "w_2b = get_weight(effs['2HDMa_gg_sinp_0.35_tanb_1.0_mXd_10_MH3_1500_MH4_750_MH2_1500_MHC_1500']['2b'], fatjet.pt, fatjet.eta)\n",
    "w_1h = get_weight(effs['2HDMa_gg_sinp_0.35_tanb_1.0_mXd_10_MH3_1500_MH4_750_MH2_1500_MHC_1500']['1h'], fatjet.pt, fatjet.eta)\n",
    "        \n",
    "w_all = w_0b * zerob + w_1b * oneb + w_2b * twob # + w_1h * onehiggs  # this should work\n",
    "if not np.isnan(sum(sum(effs['2HDMa_gg_sinp_0.35_tanb_1.0_mXd_10_MH3_1500_MH4_750_MH2_1500_MHC_1500']['1h'].counts))):\n",
    "#        np.isnan(sum(ak.flatten(w_1h * onehiggs))):\n",
    "    w_all = w_all + w_1h * onehiggs"
   ]
  },
  {
   "cell_type": "code",
   "execution_count": null,
   "id": "949dd1df",
   "metadata": {},
   "outputs": [],
   "source": [
    "ak.num(higgs)"
   ]
  },
  {
   "cell_type": "code",
   "execution_count": null,
   "id": "84b7305f",
   "metadata": {},
   "outputs": [],
   "source": [
    "dibquark = choose(bquark, 2)"
   ]
  },
  {
   "cell_type": "code",
   "execution_count": null,
   "id": "322a9384",
   "metadata": {},
   "outputs": [],
   "source": [
    "dibquark"
   ]
  },
  {
   "cell_type": "code",
   "execution_count": null,
   "id": "7a0ddec7",
   "metadata": {},
   "outputs": [],
   "source": [
    "b_DeltaR = delta_r(dibquark['0'], dibquark['1'])"
   ]
  },
  {
   "cell_type": "code",
   "execution_count": null,
   "id": "f3877caa",
   "metadata": {},
   "outputs": [],
   "source": [
    "ak.flatten(b_DeltaR[ak.num(bquark)==2])"
   ]
  },
  {
   "cell_type": "code",
   "execution_count": null,
   "id": "cac013c4",
   "metadata": {},
   "outputs": [],
   "source": [
    "pad_and_flatten(higgs.pt[ak.num(bquark)==2])"
   ]
  },
  {
   "cell_type": "code",
   "execution_count": null,
   "id": "7dea59b3",
   "metadata": {},
   "outputs": [],
   "source": [
    "weight = Weights(len(events_250))\n",
    "weight.add(\"NH>0\", np.nan_to_num(1-ak.prod(1-w_all, axis=1), 0))"
   ]
  },
  {
   "cell_type": "code",
   "execution_count": null,
   "id": "50337da6",
   "metadata": {},
   "outputs": [],
   "source": [
    "selection = PackedSelection()\n",
    "\n",
    "selection.add('ele_veto', ak.num(ele_l, axis=1)==0)\n",
    "selection.add('mu_veto',  ak.num(muon_l, axis=1)==0)\n",
    "selection.add('tau_veto', ak.num(tau_l, axis=1)==0)\n",
    "selection.add('met',      met_pt>300)\n",
    "selection.add('nAK4',     ak.num(jet, axis=1)>1)\n",
    "selection.add('nAK8',     ak.num(fatjet, axis=1)>0)\n",
    "selection.add('min_AK8_pt', ak.min(fatjet.pt, axis=1)>300)\n",
    "selection.add('dphi_AK8_MET>1', min_dphi_AK8_MET>1.0)\n",
    "selection.add('dphi_AK4_MET<3', min_dphi_AK4_MET<3.0)\n",
    "selection.add('dphi_AK4_MET>1', min_dphi_AK4_MET>1.0)\n",
    "selection.add('AK4_QCD_veto', AK4_QCD_veto)\n",
    "selection.add('AK8_QCD_veto', AK8_QCD_veto)\n",
    "selection.add('on_H',     on_h)\n",
    "selection.add('MT>600',   min_mt_AK8_MET>600)"
   ]
  },
  {
   "cell_type": "code",
   "execution_count": null,
   "id": "12e6129f",
   "metadata": {},
   "outputs": [],
   "source": [
    "def n_minus_one(selection, requirements, minus_one):\n",
    "    reqs_d = { sel: True for sel in requirements if not sel in minus_one }\n",
    "    return selection.require(**reqs_d)\n",
    "\n",
    "baseline = [\n",
    "    'ele_veto',\n",
    "    'mu_veto',\n",
    "    'tau_veto',\n",
    "    'met',\n",
    "    'nAK8',\n",
    "]\n",
    "\n",
    "tight = [\n",
    "    'ele_veto',\n",
    "    'mu_veto',\n",
    "'tau_veto',\n",
    "    'met',\n",
    "    'nAK8',\n",
    "    'nAK4',\n",
    "    'min_AK8_pt',\n",
    "    'dphi_AK8_MET>1',\n",
    "    'dphi_AK4_MET<3',\n",
    "    'dphi_AK4_MET>1',\n",
    "    'AK4_QCD_veto',\n",
    "    'AK8_QCD_veto',\n",
    "    'on_H',\n",
    "    'MT>600',\n",
    "]\n",
    "        \n",
    "base_sel = n_minus_one(selection, baseline, [])\n",
    "tight_sel = n_minus_one(selection, tight, [])"
   ]
  },
  {
   "cell_type": "code",
   "execution_count": null,
   "id": "f3f1a990",
   "metadata": {},
   "outputs": [],
   "source": [
    "len(events_250[n_minus_one(selection, baseline, ['met', 'nAK8'])])"
   ]
  },
  {
   "cell_type": "code",
   "execution_count": null,
   "id": "e85e9754",
   "metadata": {},
   "outputs": [],
   "source": [
    "len(events_250[n_minus_one(selection, baseline, ['ele veto', 'muon veto', 'tau veto', 'met', 'nAK8'])])"
   ]
  },
  {
   "cell_type": "code",
   "execution_count": null,
   "id": "4fbcad80",
   "metadata": {},
   "outputs": [],
   "source": [
    "len(events_250[n_minus_one(selection, baseline, ['nAK8'])])"
   ]
  },
  {
   "cell_type": "code",
   "execution_count": null,
   "id": "a6ab08a4",
   "metadata": {},
   "outputs": [],
   "source": [
    "len(events_250[base_sel])"
   ]
  },
  {
   "cell_type": "code",
   "execution_count": null,
   "id": "020a1cba",
   "metadata": {},
   "outputs": [],
   "source": [
    "dphi_difatjet[baseline &(ak.num(fatjet)>1)].tolist()"
   ]
  },
  {
   "cell_type": "code",
   "execution_count": null,
   "id": "da99a202",
   "metadata": {},
   "outputs": [],
   "source": [
    "weight.weight()[baseline &(ak.num(fatjet)>1)]"
   ]
  },
  {
   "cell_type": "code",
   "execution_count": null,
   "id": "5beed613",
   "metadata": {},
   "outputs": [],
   "source": [
    "ak.min(fatjet.pt[baseline], axis=1)"
   ]
  },
  {
   "cell_type": "code",
   "execution_count": null,
   "id": "0bbb3da0",
   "metadata": {},
   "outputs": [],
   "source": []
  },
  {
   "cell_type": "code",
   "execution_count": null,
   "id": "880f71e7",
   "metadata": {},
   "outputs": [],
   "source": [
    "events_QCD = NanoEventsFactory.from_root(\n",
    "        '/hadoop/cms/store/user/dspitzba/ProjectMetis/merge_QCD_bEnriched_HT1000to1500_TuneCUETP8M1_14TeV-madgraphMLM-pythia8_200PU_v15/merge_1.root:nevents',\n",
    "        #treepath='nevents',\n",
    "        schemaclass = BaseSchema,\n",
    "        #entry_stop = n_max,\n",
    "    ).events()"
   ]
  },
  {
   "cell_type": "code",
   "execution_count": null,
   "id": "429c6861",
   "metadata": {},
   "outputs": [],
   "source": [
    "events_QCD"
   ]
  },
  {
   "cell_type": "code",
   "execution_count": null,
   "id": "0c6bddaf",
   "metadata": {},
   "outputs": [],
   "source": [
    "import uproot"
   ]
  },
  {
   "cell_type": "code",
   "execution_count": null,
   "id": "55c8a9cc",
   "metadata": {},
   "outputs": [],
   "source": [
    "with uproot.open('/hadoop/cms/store/user/ewallace/ProjectMetis/2HDMa_bb_1500_250_10_HLLHC_GEN_v4/gen_10.root:Events',) as events:\n",
    "    print(events.keys())"
   ]
  },
  {
   "cell_type": "code",
   "execution_count": null,
   "id": "dc87dd43",
   "metadata": {},
   "outputs": [],
   "source": [
    "fileset = {\n",
    "            'WJetsToLNu_TuneCUETP8M1_14TeV-madgraphMLM-pythia8_200PU': samples['WJetsToLNu_TuneCUETP8M1_14TeV-madgraphMLM-pythia8_200PU']['skim'],\n",
    "}"
   ]
  },
  {
   "cell_type": "code",
   "execution_count": null,
   "id": "39ccf007",
   "metadata": {},
   "outputs": [],
   "source": [
    "with uproot.open('/hadoop/cms/store/user/dspitzba/ProjectMetis/merge_VVTo2L2Nu_14TeV_amcatnloFXFX_madspin_pythia8_200PU_v16/merge_2.root:nevents') as counts:\n",
    "    print(counts.counts())"
   ]
  },
  {
   "cell_type": "code",
   "execution_count": null,
   "id": "65e2ca8f",
   "metadata": {},
   "outputs": [],
   "source": [
    "nevents = {}\n",
    "\n",
    "for key in fileset:\n",
    "    nevents[key] = 0\n",
    "    for file in fileset[key]:\n",
    "        with uproot.open(file+':nevents') as counts:\n",
    "            nevents[file] = counts.counts()[0] \n",
    "        nevents[key] += nevents[file]"
   ]
  },
  {
   "cell_type": "code",
   "execution_count": null,
   "id": "05931b30",
   "metadata": {},
   "outputs": [],
   "source": [
    "nevents"
   ]
  }
 ],
 "metadata": {
  "kernelspec": {
   "display_name": "coffeadev",
   "language": "python",
   "name": "coffeadev"
  },
  "language_info": {
   "codemirror_mode": {
    "name": "ipython",
    "version": 3
   },
   "file_extension": ".py",
   "mimetype": "text/x-python",
   "name": "python",
   "nbconvert_exporter": "python",
   "pygments_lexer": "ipython3",
   "version": "3.9.7"
  }
 },
 "nbformat": 4,
 "nbformat_minor": 5
}
